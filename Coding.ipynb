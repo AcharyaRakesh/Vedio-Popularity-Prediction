{
 "cells": [
  {
   "cell_type": "code",
   "execution_count": null,
   "metadata": {
    "id": "JwTJBemScpTb"
   },
   "outputs": [],
   "source": [
    " 1.Importing the Relevant Libraries\n",
    " 2.Reading Data\n",
    " 3.Data Inspection\n",
    " 4.Data Cleaning\n",
    " 5.Data Pre-process\n",
    " 6.Exploratory Data Analysis\n",
    " 7.Building Model"
   ]
  },
  {
   "cell_type": "markdown",
   "metadata": {
    "id": "OHLG5hi13NR-"
   },
   "source": [
    "1.**Importing the Relevant Libraries**"
   ]
  },
  {
   "cell_type": "code",
   "execution_count": null,
   "metadata": {
    "id": "n6lVwsGo1fY8"
   },
   "outputs": [],
   "source": [
    "%matplotlib inline\n",
    "\n",
    "import numpy as np\n",
    "import pandas as pd\n",
    "import matplotlib.pyplot as plt\n",
    "import seaborn as sns\n",
    "\n",
    "from sklearn.preprocessing import LabelEncoder\n",
    "from sklearn.model_selection import train_test_split\n",
    "\n",
    "\n",
    "from sklearn.linear_model import Ridge, Lasso, LinearRegression,LogisticRegression\n",
    "from sklearn.ensemble import RandomForestRegressor\n",
    "from sklearn.tree import DecisionTreeRegressor\n",
    "from sklearn.neighbors import KNeighborsRegressor\n",
    "from sklearn import metrics\n",
    "from sklearn import svm\n",
    "from sklearn.ensemble import AdaBoostClassifier \n",
    "from sklearn.ensemble import AdaBoostRegressor \n",
    "from sklearn.tree import DecisionTreeClassifier\n"
   ]
  },
  {
   "cell_type": "markdown",
   "metadata": {
    "id": "OhaftbMc4q7c"
   },
   "source": [
    "2.Reading Data"
   ]
  },
  {
   "cell_type": "code",
   "execution_count": null,
   "metadata": {
    "id": "xwvaloZy429H"
   },
   "outputs": [],
   "source": [
    "#Train Data \n",
    "Train = pd.read_csv('/content/train3.csv')\n",
    "\n",
    "#Train Data \n",
    "Test =pd.read_csv('/content/public_meta_df.csv')"
   ]
  },
  {
   "cell_type": "code",
   "execution_count": null,
   "metadata": {
    "colab": {
     "base_uri": "https://localhost:8080/",
     "height": 195
    },
    "executionInfo": {
     "elapsed": 1605,
     "status": "ok",
     "timestamp": 1617271582979,
     "user": {
      "displayName": "Shree Devi",
      "photoUrl": "",
      "userId": "07969727407153392124"
     },
     "user_tz": -330
    },
    "id": "rTBZNcjY5abN",
    "outputId": "5c8e2d6f-8a2b-467a-806e-2bbaf15a343a"
   },
   "outputs": [
    {
     "data": {
      "text/html": [
       "<div>\n",
       "<style scoped>\n",
       "    .dataframe tbody tr th:only-of-type {\n",
       "        vertical-align: middle;\n",
       "    }\n",
       "\n",
       "    .dataframe tbody tr th {\n",
       "        vertical-align: top;\n",
       "    }\n",
       "\n",
       "    .dataframe thead th {\n",
       "        text-align: right;\n",
       "    }\n",
       "</style>\n",
       "<table border=\"1\" class=\"dataframe\">\n",
       "  <thead>\n",
       "    <tr style=\"text-align: right;\">\n",
       "      <th></th>\n",
       "      <th>comp_id</th>\n",
       "      <th>ad_blocked</th>\n",
       "      <th>embed</th>\n",
       "      <th>ratio</th>\n",
       "      <th>duration</th>\n",
       "      <th>language</th>\n",
       "      <th>partner</th>\n",
       "      <th>partner_active</th>\n",
       "      <th>n_likes</th>\n",
       "      <th>views</th>\n",
       "      <th>n_tags</th>\n",
       "      <th>n_formats</th>\n",
       "      <th>dayofweek</th>\n",
       "      <th>hour</th>\n",
       "    </tr>\n",
       "  </thead>\n",
       "  <tbody>\n",
       "    <tr>\n",
       "      <th>0</th>\n",
       "      <td>1</td>\n",
       "      <td>False</td>\n",
       "      <td>True</td>\n",
       "      <td>1.77778</td>\n",
       "      <td>86</td>\n",
       "      <td>3</td>\n",
       "      <td>True</td>\n",
       "      <td>False</td>\n",
       "      <td>0</td>\n",
       "      <td>290</td>\n",
       "      <td>3</td>\n",
       "      <td>0</td>\n",
       "      <td>5</td>\n",
       "      <td>6</td>\n",
       "    </tr>\n",
       "    <tr>\n",
       "      <th>1</th>\n",
       "      <td>2</td>\n",
       "      <td>False</td>\n",
       "      <td>True</td>\n",
       "      <td>1.33333</td>\n",
       "      <td>1129</td>\n",
       "      <td>2</td>\n",
       "      <td>True</td>\n",
       "      <td>False</td>\n",
       "      <td>0</td>\n",
       "      <td>1443</td>\n",
       "      <td>0</td>\n",
       "      <td>2</td>\n",
       "      <td>5</td>\n",
       "      <td>6</td>\n",
       "    </tr>\n",
       "    <tr>\n",
       "      <th>2</th>\n",
       "      <td>3</td>\n",
       "      <td>False</td>\n",
       "      <td>True</td>\n",
       "      <td>1.76667</td>\n",
       "      <td>1163</td>\n",
       "      <td>2</td>\n",
       "      <td>True</td>\n",
       "      <td>False</td>\n",
       "      <td>0</td>\n",
       "      <td>329</td>\n",
       "      <td>0</td>\n",
       "      <td>1</td>\n",
       "      <td>5</td>\n",
       "      <td>6</td>\n",
       "    </tr>\n",
       "    <tr>\n",
       "      <th>3</th>\n",
       "      <td>4</td>\n",
       "      <td>False</td>\n",
       "      <td>True</td>\n",
       "      <td>1.77778</td>\n",
       "      <td>1326</td>\n",
       "      <td>2</td>\n",
       "      <td>True</td>\n",
       "      <td>False</td>\n",
       "      <td>0</td>\n",
       "      <td>63</td>\n",
       "      <td>0</td>\n",
       "      <td>3</td>\n",
       "      <td>5</td>\n",
       "      <td>6</td>\n",
       "    </tr>\n",
       "    <tr>\n",
       "      <th>4</th>\n",
       "      <td>5</td>\n",
       "      <td>False</td>\n",
       "      <td>True</td>\n",
       "      <td>1.77273</td>\n",
       "      <td>2612</td>\n",
       "      <td>2</td>\n",
       "      <td>True</td>\n",
       "      <td>False</td>\n",
       "      <td>3</td>\n",
       "      <td>37</td>\n",
       "      <td>0</td>\n",
       "      <td>0</td>\n",
       "      <td>5</td>\n",
       "      <td>6</td>\n",
       "    </tr>\n",
       "  </tbody>\n",
       "</table>\n",
       "</div>"
      ],
      "text/plain": [
       "   comp_id  ad_blocked  embed    ratio  ...  n_tags  n_formats  dayofweek  hour\n",
       "0        1       False   True  1.77778  ...       3          0          5     6\n",
       "1        2       False   True  1.33333  ...       0          2          5     6\n",
       "2        3       False   True  1.76667  ...       0          1          5     6\n",
       "3        4       False   True  1.77778  ...       0          3          5     6\n",
       "4        5       False   True  1.77273  ...       0          0          5     6\n",
       "\n",
       "[5 rows x 14 columns]"
      ]
     },
     "execution_count": 4,
     "metadata": {
      "tags": []
     },
     "output_type": "execute_result"
    }
   ],
   "source": [
    "Train.head()"
   ]
  },
  {
   "cell_type": "code",
   "execution_count": null,
   "metadata": {
    "colab": {
     "base_uri": "https://localhost:8080/",
     "height": 195
    },
    "executionInfo": {
     "elapsed": 1250,
     "status": "ok",
     "timestamp": 1617271593858,
     "user": {
      "displayName": "Shree Devi",
      "photoUrl": "",
      "userId": "07969727407153392124"
     },
     "user_tz": -330
    },
    "id": "QwNBbJZK5aej",
    "outputId": "2e74d754-75dd-4dd2-9769-c825cc935e31"
   },
   "outputs": [
    {
     "data": {
      "text/html": [
       "<div>\n",
       "<style scoped>\n",
       "    .dataframe tbody tr th:only-of-type {\n",
       "        vertical-align: middle;\n",
       "    }\n",
       "\n",
       "    .dataframe tbody tr th {\n",
       "        vertical-align: top;\n",
       "    }\n",
       "\n",
       "    .dataframe thead th {\n",
       "        text-align: right;\n",
       "    }\n",
       "</style>\n",
       "<table border=\"1\" class=\"dataframe\">\n",
       "  <thead>\n",
       "    <tr style=\"text-align: right;\">\n",
       "      <th></th>\n",
       "      <th>comp_id</th>\n",
       "      <th>ad_blocked</th>\n",
       "      <th>embed</th>\n",
       "      <th>ratio</th>\n",
       "      <th>duration</th>\n",
       "      <th>language</th>\n",
       "      <th>partner</th>\n",
       "      <th>partner_active</th>\n",
       "      <th>n_likes</th>\n",
       "      <th>n_tags</th>\n",
       "      <th>n_formats</th>\n",
       "      <th>dayofweek</th>\n",
       "      <th>hour</th>\n",
       "    </tr>\n",
       "  </thead>\n",
       "  <tbody>\n",
       "    <tr>\n",
       "      <th>0</th>\n",
       "      <td>3001</td>\n",
       "      <td>False</td>\n",
       "      <td>True</td>\n",
       "      <td>1.33333</td>\n",
       "      <td>1675</td>\n",
       "      <td>2</td>\n",
       "      <td>False</td>\n",
       "      <td>False</td>\n",
       "      <td>0</td>\n",
       "      <td>10</td>\n",
       "      <td>2</td>\n",
       "      <td>2</td>\n",
       "      <td>3</td>\n",
       "    </tr>\n",
       "    <tr>\n",
       "      <th>1</th>\n",
       "      <td>3002</td>\n",
       "      <td>False</td>\n",
       "      <td>True</td>\n",
       "      <td>1.33333</td>\n",
       "      <td>1479</td>\n",
       "      <td>2</td>\n",
       "      <td>False</td>\n",
       "      <td>False</td>\n",
       "      <td>0</td>\n",
       "      <td>10</td>\n",
       "      <td>2</td>\n",
       "      <td>2</td>\n",
       "      <td>3</td>\n",
       "    </tr>\n",
       "    <tr>\n",
       "      <th>2</th>\n",
       "      <td>3003</td>\n",
       "      <td>False</td>\n",
       "      <td>True</td>\n",
       "      <td>1.33333</td>\n",
       "      <td>1505</td>\n",
       "      <td>2</td>\n",
       "      <td>False</td>\n",
       "      <td>False</td>\n",
       "      <td>0</td>\n",
       "      <td>10</td>\n",
       "      <td>2</td>\n",
       "      <td>2</td>\n",
       "      <td>3</td>\n",
       "    </tr>\n",
       "    <tr>\n",
       "      <th>3</th>\n",
       "      <td>3004</td>\n",
       "      <td>False</td>\n",
       "      <td>True</td>\n",
       "      <td>1.77778</td>\n",
       "      <td>50</td>\n",
       "      <td>2</td>\n",
       "      <td>True</td>\n",
       "      <td>True</td>\n",
       "      <td>1</td>\n",
       "      <td>6</td>\n",
       "      <td>5</td>\n",
       "      <td>2</td>\n",
       "      <td>3</td>\n",
       "    </tr>\n",
       "    <tr>\n",
       "      <th>4</th>\n",
       "      <td>3005</td>\n",
       "      <td>False</td>\n",
       "      <td>True</td>\n",
       "      <td>1.33333</td>\n",
       "      <td>1543</td>\n",
       "      <td>2</td>\n",
       "      <td>False</td>\n",
       "      <td>False</td>\n",
       "      <td>0</td>\n",
       "      <td>6</td>\n",
       "      <td>2</td>\n",
       "      <td>2</td>\n",
       "      <td>3</td>\n",
       "    </tr>\n",
       "  </tbody>\n",
       "</table>\n",
       "</div>"
      ],
      "text/plain": [
       "   comp_id  ad_blocked  embed    ratio  ...  n_tags  n_formats  dayofweek  hour\n",
       "0     3001       False   True  1.33333  ...      10          2          2     3\n",
       "1     3002       False   True  1.33333  ...      10          2          2     3\n",
       "2     3003       False   True  1.33333  ...      10          2          2     3\n",
       "3     3004       False   True  1.77778  ...       6          5          2     3\n",
       "4     3005       False   True  1.33333  ...       6          2          2     3\n",
       "\n",
       "[5 rows x 13 columns]"
      ]
     },
     "execution_count": 5,
     "metadata": {
      "tags": []
     },
     "output_type": "execute_result"
    }
   ],
   "source": [
    "Test.head()"
   ]
  },
  {
   "cell_type": "markdown",
   "metadata": {
    "id": "ls1FdYOs5Kv5"
   },
   "source": [
    "3.Data Inspection"
   ]
  },
  {
   "cell_type": "code",
   "execution_count": null,
   "metadata": {
    "colab": {
     "base_uri": "https://localhost:8080/"
    },
    "executionInfo": {
     "elapsed": 1390,
     "status": "ok",
     "timestamp": 1617271648225,
     "user": {
      "displayName": "Shree Devi",
      "photoUrl": "",
      "userId": "07969727407153392124"
     },
     "user_tz": -330
    },
    "id": "Sm_DfLy75Fa3",
    "outputId": "ce327219-b735-49e0-c41c-83480ec8fab1"
   },
   "outputs": [
    {
     "name": "stdout",
     "output_type": "stream",
     "text": [
      "Train_data_shape: (3000, 14)\n",
      "Test_data_shape: (986, 13)\n"
     ]
    }
   ],
   "source": [
    "print(f\"Train_data_shape: {Train.shape}\\nTest_data_shape: {Test.shape}\")"
   ]
  },
  {
   "cell_type": "markdown",
   "metadata": {
    "id": "UN9r_Mw953OK"
   },
   "source": [
    "Training Set consist 3000 rows and 14 columns in Train Set whereas Test set consist 986 rows and 13 columns."
   ]
  },
  {
   "cell_type": "code",
   "execution_count": null,
   "metadata": {
    "colab": {
     "base_uri": "https://localhost:8080/"
    },
    "executionInfo": {
     "elapsed": 2010,
     "status": "ok",
     "timestamp": 1617271773553,
     "user": {
      "displayName": "Shree Devi",
      "photoUrl": "",
      "userId": "07969727407153392124"
     },
     "user_tz": -330
    },
    "id": "7LKkO2z66FPv",
    "outputId": "fa157f58-65b2-47fd-cdf2-602849b4fb31"
   },
   "outputs": [
    {
     "name": "stdout",
     "output_type": "stream",
     "text": [
      "Train_Data:\n",
      "comp_id           0\n",
      "ad_blocked        0\n",
      "embed             0\n",
      "ratio             0\n",
      "duration          0\n",
      "language          0\n",
      "partner           0\n",
      "partner_active    0\n",
      "n_likes           0\n",
      "views             0\n",
      "n_tags            0\n",
      "n_formats         0\n",
      "dayofweek         0\n",
      "hour              0\n",
      "dtype: int64,\n",
      "\n",
      "\n",
      "Test_Data:\n",
      "comp_id           0\n",
      "ad_blocked        0\n",
      "embed             0\n",
      "ratio             0\n",
      "duration          0\n",
      "language          0\n",
      "partner           0\n",
      "partner_active    0\n",
      "n_likes           0\n",
      "n_tags            0\n",
      "n_formats         0\n",
      "dayofweek         0\n",
      "hour              0\n",
      "dtype: int64\n"
     ]
    }
   ],
   "source": [
    "print(f'Train_Data:\\n{Train.isnull().sum()},\\n\\n\\nTest_Data:\\n{Test.isnull().sum()}')"
   ]
  },
  {
   "cell_type": "markdown",
   "metadata": {
    "id": "YKJQGyC46RW1"
   },
   "source": [
    "Their is no NULL value"
   ]
  },
  {
   "cell_type": "code",
   "execution_count": null,
   "metadata": {
    "colab": {
     "base_uri": "https://localhost:8080/"
    },
    "executionInfo": {
     "elapsed": 1076,
     "status": "ok",
     "timestamp": 1617271869901,
     "user": {
      "displayName": "Shree Devi",
      "photoUrl": "",
      "userId": "07969727407153392124"
     },
     "user_tz": -330
    },
    "id": "CW7WWK326bwJ",
    "outputId": "296f2a20-b1eb-4beb-92f9-e344593f3277"
   },
   "outputs": [
    {
     "data": {
      "text/plain": [
       "comp_id             int64\n",
       "ad_blocked           bool\n",
       "embed                bool\n",
       "ratio             float64\n",
       "duration            int64\n",
       "language            int64\n",
       "partner              bool\n",
       "partner_active       bool\n",
       "n_likes             int64\n",
       "views               int64\n",
       "n_tags              int64\n",
       "n_formats           int64\n",
       "dayofweek           int64\n",
       "hour                int64\n",
       "dtype: object"
      ]
     },
     "execution_count": 8,
     "metadata": {
      "tags": []
     },
     "output_type": "execute_result"
    }
   ],
   "source": [
    "Train.dtypes"
   ]
  },
  {
   "cell_type": "markdown",
   "metadata": {
    "id": "ANKUoQ8u7EO8"
   },
   "source": [
    "5.Data Pre-process"
   ]
  },
  {
   "cell_type": "code",
   "execution_count": null,
   "metadata": {
    "id": "3GthUowkcyE1"
   },
   "outputs": [],
   "source": [
    "\n",
    "le = LabelEncoder()\n",
    "\n",
    "Train_dta= Train[['ad_blocked','embed','partner','partner_active']].apply(le.fit_transform)\n",
    "Train_set = Train.drop(['ad_blocked','embed','partner','partner_active'],axis ='columns')\n",
    "Training_set =  pd.concat([Train_dta,Train_set],axis = 'columns')\n",
    "\n",
    "Training_sets =Training_set.drop(['comp_id'],axis ='columns')"
   ]
  },
  {
   "cell_type": "code",
   "execution_count": null,
   "metadata": {
    "colab": {
     "base_uri": "https://localhost:8080/",
     "height": 195
    },
    "executionInfo": {
     "elapsed": 1872,
     "status": "ok",
     "timestamp": 1617272086793,
     "user": {
      "displayName": "Shree Devi",
      "photoUrl": "",
      "userId": "07969727407153392124"
     },
     "user_tz": -330
    },
    "id": "MG62iD-h7Uj5",
    "outputId": "820a357b-10e0-49a2-a63a-1886bd5e36ac"
   },
   "outputs": [
    {
     "data": {
      "text/html": [
       "<div>\n",
       "<style scoped>\n",
       "    .dataframe tbody tr th:only-of-type {\n",
       "        vertical-align: middle;\n",
       "    }\n",
       "\n",
       "    .dataframe tbody tr th {\n",
       "        vertical-align: top;\n",
       "    }\n",
       "\n",
       "    .dataframe thead th {\n",
       "        text-align: right;\n",
       "    }\n",
       "</style>\n",
       "<table border=\"1\" class=\"dataframe\">\n",
       "  <thead>\n",
       "    <tr style=\"text-align: right;\">\n",
       "      <th></th>\n",
       "      <th>ad_blocked</th>\n",
       "      <th>embed</th>\n",
       "      <th>partner</th>\n",
       "      <th>partner_active</th>\n",
       "      <th>ratio</th>\n",
       "      <th>duration</th>\n",
       "      <th>language</th>\n",
       "      <th>n_likes</th>\n",
       "      <th>views</th>\n",
       "      <th>n_tags</th>\n",
       "      <th>n_formats</th>\n",
       "      <th>dayofweek</th>\n",
       "      <th>hour</th>\n",
       "    </tr>\n",
       "  </thead>\n",
       "  <tbody>\n",
       "    <tr>\n",
       "      <th>0</th>\n",
       "      <td>0</td>\n",
       "      <td>1</td>\n",
       "      <td>1</td>\n",
       "      <td>0</td>\n",
       "      <td>1.77778</td>\n",
       "      <td>86</td>\n",
       "      <td>3</td>\n",
       "      <td>0</td>\n",
       "      <td>290</td>\n",
       "      <td>3</td>\n",
       "      <td>0</td>\n",
       "      <td>5</td>\n",
       "      <td>6</td>\n",
       "    </tr>\n",
       "    <tr>\n",
       "      <th>1</th>\n",
       "      <td>0</td>\n",
       "      <td>1</td>\n",
       "      <td>1</td>\n",
       "      <td>0</td>\n",
       "      <td>1.33333</td>\n",
       "      <td>1129</td>\n",
       "      <td>2</td>\n",
       "      <td>0</td>\n",
       "      <td>1443</td>\n",
       "      <td>0</td>\n",
       "      <td>2</td>\n",
       "      <td>5</td>\n",
       "      <td>6</td>\n",
       "    </tr>\n",
       "    <tr>\n",
       "      <th>2</th>\n",
       "      <td>0</td>\n",
       "      <td>1</td>\n",
       "      <td>1</td>\n",
       "      <td>0</td>\n",
       "      <td>1.76667</td>\n",
       "      <td>1163</td>\n",
       "      <td>2</td>\n",
       "      <td>0</td>\n",
       "      <td>329</td>\n",
       "      <td>0</td>\n",
       "      <td>1</td>\n",
       "      <td>5</td>\n",
       "      <td>6</td>\n",
       "    </tr>\n",
       "    <tr>\n",
       "      <th>3</th>\n",
       "      <td>0</td>\n",
       "      <td>1</td>\n",
       "      <td>1</td>\n",
       "      <td>0</td>\n",
       "      <td>1.77778</td>\n",
       "      <td>1326</td>\n",
       "      <td>2</td>\n",
       "      <td>0</td>\n",
       "      <td>63</td>\n",
       "      <td>0</td>\n",
       "      <td>3</td>\n",
       "      <td>5</td>\n",
       "      <td>6</td>\n",
       "    </tr>\n",
       "    <tr>\n",
       "      <th>4</th>\n",
       "      <td>0</td>\n",
       "      <td>1</td>\n",
       "      <td>1</td>\n",
       "      <td>0</td>\n",
       "      <td>1.77273</td>\n",
       "      <td>2612</td>\n",
       "      <td>2</td>\n",
       "      <td>3</td>\n",
       "      <td>37</td>\n",
       "      <td>0</td>\n",
       "      <td>0</td>\n",
       "      <td>5</td>\n",
       "      <td>6</td>\n",
       "    </tr>\n",
       "  </tbody>\n",
       "</table>\n",
       "</div>"
      ],
      "text/plain": [
       "   ad_blocked  embed  partner  ...  n_formats  dayofweek  hour\n",
       "0           0      1        1  ...          0          5     6\n",
       "1           0      1        1  ...          2          5     6\n",
       "2           0      1        1  ...          1          5     6\n",
       "3           0      1        1  ...          3          5     6\n",
       "4           0      1        1  ...          0          5     6\n",
       "\n",
       "[5 rows x 13 columns]"
      ]
     },
     "execution_count": 11,
     "metadata": {
      "tags": []
     },
     "output_type": "execute_result"
    }
   ],
   "source": [
    "Training_sets.head()"
   ]
  },
  {
   "cell_type": "markdown",
   "metadata": {
    "id": "UeZ9yZmF7eFI"
   },
   "source": [
    "Normalizing the Data"
   ]
  },
  {
   "cell_type": "code",
   "execution_count": null,
   "metadata": {
    "id": "i6BwbK9-0bXp"
   },
   "outputs": [],
   "source": [
    "import numpy as np\n",
    "import pandas as pd\n",
    "\n",
    "def quantileNormalize(Training_sets):\n",
    "    df = Training_sets.copy()\n",
    "    #compute rank\n",
    "    dic = {}\n",
    "    for col in df:\n",
    "        dic.update({col : sorted(df[col])})\n",
    "    sorted_df = pd.DataFrame(dic)\n",
    "    rank = sorted_df.mean(axis = 1).tolist()\n",
    "    #sort\n",
    "    for col in df:\n",
    "        t = np.searchsorted(np.sort(df[col]), df[col])\n",
    "        df[col] = [rank[i] for i in t]\n",
    "    return df\n",
    "    print(df.head)\n",
    "\n",
    "New_traing_data=quantileNormalize(Training_sets)   "
   ]
  },
  {
   "cell_type": "markdown",
   "metadata": {
    "id": "uQ7_IYjB7wnW"
   },
   "source": [
    "**Removing the Outliers**"
   ]
  },
  {
   "cell_type": "code",
   "execution_count": null,
   "metadata": {
    "id": "nLsonGf88GK7"
   },
   "outputs": [],
   "source": [
    "from scipy import stats\n"
   ]
  },
  {
   "cell_type": "code",
   "execution_count": null,
   "metadata": {
    "colab": {
     "base_uri": "https://localhost:8080/",
     "height": 195
    },
    "executionInfo": {
     "elapsed": 2472,
     "status": "ok",
     "timestamp": 1617272323870,
     "user": {
      "displayName": "Shree Devi",
      "photoUrl": "",
      "userId": "07969727407153392124"
     },
     "user_tz": -330
    },
    "id": "cdyhy6Rw0blU",
    "outputId": "caabdff1-1a49-497a-d1ae-6a690d1815d4"
   },
   "outputs": [
    {
     "data": {
      "text/html": [
       "<div>\n",
       "<style scoped>\n",
       "    .dataframe tbody tr th:only-of-type {\n",
       "        vertical-align: middle;\n",
       "    }\n",
       "\n",
       "    .dataframe tbody tr th {\n",
       "        vertical-align: top;\n",
       "    }\n",
       "\n",
       "    .dataframe thead th {\n",
       "        text-align: right;\n",
       "    }\n",
       "</style>\n",
       "<table border=\"1\" class=\"dataframe\">\n",
       "  <thead>\n",
       "    <tr style=\"text-align: right;\">\n",
       "      <th></th>\n",
       "      <th>ad_blocked</th>\n",
       "      <th>embed</th>\n",
       "      <th>partner</th>\n",
       "      <th>partner_active</th>\n",
       "      <th>ratio</th>\n",
       "      <th>duration</th>\n",
       "      <th>language</th>\n",
       "      <th>n_likes</th>\n",
       "      <th>views</th>\n",
       "      <th>n_tags</th>\n",
       "      <th>n_formats</th>\n",
       "      <th>dayofweek</th>\n",
       "      <th>hour</th>\n",
       "    </tr>\n",
       "  </thead>\n",
       "  <tbody>\n",
       "    <tr>\n",
       "      <th>0</th>\n",
       "      <td>1.734615</td>\n",
       "      <td>2.42735</td>\n",
       "      <td>16.367133</td>\n",
       "      <td>1.734615</td>\n",
       "      <td>16.905983</td>\n",
       "      <td>13.982052</td>\n",
       "      <td>52.444445</td>\n",
       "      <td>1.734615</td>\n",
       "      <td>52.444445</td>\n",
       "      <td>28.521368</td>\n",
       "      <td>1.734615</td>\n",
       "      <td>36.213675</td>\n",
       "      <td>24.82906</td>\n",
       "    </tr>\n",
       "    <tr>\n",
       "      <th>1</th>\n",
       "      <td>1.734615</td>\n",
       "      <td>2.42735</td>\n",
       "      <td>16.367133</td>\n",
       "      <td>1.734615</td>\n",
       "      <td>4.948718</td>\n",
       "      <td>149.059829</td>\n",
       "      <td>2.811966</td>\n",
       "      <td>1.734615</td>\n",
       "      <td>257.290598</td>\n",
       "      <td>1.734615</td>\n",
       "      <td>3.519231</td>\n",
       "      <td>36.213675</td>\n",
       "      <td>24.82906</td>\n",
       "    </tr>\n",
       "    <tr>\n",
       "      <th>2</th>\n",
       "      <td>1.734615</td>\n",
       "      <td>2.42735</td>\n",
       "      <td>16.367133</td>\n",
       "      <td>1.734615</td>\n",
       "      <td>11.289744</td>\n",
       "      <td>152.367522</td>\n",
       "      <td>2.811966</td>\n",
       "      <td>1.734615</td>\n",
       "      <td>59.059829</td>\n",
       "      <td>1.734615</td>\n",
       "      <td>2.504274</td>\n",
       "      <td>36.213675</td>\n",
       "      <td>24.82906</td>\n",
       "    </tr>\n",
       "    <tr>\n",
       "      <th>3</th>\n",
       "      <td>1.734615</td>\n",
       "      <td>2.42735</td>\n",
       "      <td>16.367133</td>\n",
       "      <td>1.734615</td>\n",
       "      <td>16.905983</td>\n",
       "      <td>184.444445</td>\n",
       "      <td>2.811966</td>\n",
       "      <td>1.734615</td>\n",
       "      <td>10.981901</td>\n",
       "      <td>1.734615</td>\n",
       "      <td>5.102564</td>\n",
       "      <td>36.213675</td>\n",
       "      <td>24.82906</td>\n",
       "    </tr>\n",
       "    <tr>\n",
       "      <th>5</th>\n",
       "      <td>1.734615</td>\n",
       "      <td>2.42735</td>\n",
       "      <td>16.367133</td>\n",
       "      <td>1.734615</td>\n",
       "      <td>16.905983</td>\n",
       "      <td>140.982906</td>\n",
       "      <td>2.811966</td>\n",
       "      <td>1.734615</td>\n",
       "      <td>11.443590</td>\n",
       "      <td>1.734615</td>\n",
       "      <td>3.519231</td>\n",
       "      <td>36.213675</td>\n",
       "      <td>24.82906</td>\n",
       "    </tr>\n",
       "  </tbody>\n",
       "</table>\n",
       "</div>"
      ],
      "text/plain": [
       "   ad_blocked    embed    partner  ...  n_formats  dayofweek      hour\n",
       "0    1.734615  2.42735  16.367133  ...   1.734615  36.213675  24.82906\n",
       "1    1.734615  2.42735  16.367133  ...   3.519231  36.213675  24.82906\n",
       "2    1.734615  2.42735  16.367133  ...   2.504274  36.213675  24.82906\n",
       "3    1.734615  2.42735  16.367133  ...   5.102564  36.213675  24.82906\n",
       "5    1.734615  2.42735  16.367133  ...   3.519231  36.213675  24.82906\n",
       "\n",
       "[5 rows x 13 columns]"
      ]
     },
     "execution_count": 21,
     "metadata": {
      "tags": []
     },
     "output_type": "execute_result"
    }
   ],
   "source": [
    "z_scores = stats.zscore(New_traing_data)\n",
    "#calculate z-scores of `df`\n",
    "\n",
    "abs_z_scores = np.abs(z_scores)\n",
    "filtered_entries = (abs_z_scores < 3).all(axis=1)\n",
    "new_df = New_traing_data[filtered_entries]\n",
    "\n",
    "new_df.head()"
   ]
  },
  {
   "cell_type": "code",
   "execution_count": null,
   "metadata": {
    "colab": {
     "base_uri": "https://localhost:8080/"
    },
    "executionInfo": {
     "elapsed": 3675,
     "status": "ok",
     "timestamp": 1617272309151,
     "user": {
      "displayName": "Shree Devi",
      "photoUrl": "",
      "userId": "07969727407153392124"
     },
     "user_tz": -330
    },
    "id": "FH573Fhe76zD",
    "outputId": "b5618b6d-e4b6-4e6c-91a6-815dd7448f7d"
   },
   "outputs": [
    {
     "data": {
      "text/plain": [
       "(2308, 13)"
      ]
     },
     "execution_count": 20,
     "metadata": {
      "tags": []
     },
     "output_type": "execute_result"
    }
   ],
   "source": [
    "new_df.shape"
   ]
  },
  {
   "cell_type": "markdown",
   "metadata": {
    "id": "RSNKxRru-bEd"
   },
   "source": [
    "Splitting The Data"
   ]
  },
  {
   "cell_type": "code",
   "execution_count": null,
   "metadata": {
    "id": "brNQE-upc5zs"
   },
   "outputs": [],
   "source": [
    "X= new_df.drop(columns = ['views'], axis=1)\n",
    "y= new_df['views']\n",
    "\n",
    "# 20% data as validation set\n",
    "X_train,X_valid,y_train,y_valid = train_test_split(X,y,test_size=0.2,random_state=32)\n"
   ]
  },
  {
   "cell_type": "markdown",
   "metadata": {
    "id": "N-jqtJtw-umI"
   },
   "source": [
    "To Standardize the Data"
   ]
  },
  {
   "cell_type": "code",
   "execution_count": null,
   "metadata": {
    "id": "cHydc0fc-zv8"
   },
   "outputs": [],
   "source": [
    "from sklearn.preprocessing import StandardScaler\n",
    "sc = StandardScaler()\n",
    "X_train = sc.fit_transform(X_train)\n",
    "X_valid = sc.transform(X_valid)"
   ]
  },
  {
   "cell_type": "markdown",
   "metadata": {
    "id": "Qc3fAY-p_AcF"
   },
   "source": [
    "Output Data Pre-Process"
   ]
  },
  {
   "cell_type": "code",
   "execution_count": null,
   "metadata": {
    "id": "AppxJmeYc60A"
   },
   "outputs": [],
   "source": [
    "Test1 = Test.drop(['comp_id'],axis ='columns')\n",
    "\n",
    "Test_set = Test1.drop(['ad_blocked','embed','partner','partner_active'],axis ='columns')\n",
    "\n",
    "le = LabelEncoder()\n",
    "\n",
    "Test_dta= Test[['ad_blocked','embed','partner','partner_active']].apply(le.fit_transform)\n",
    "Testing_set =  pd.concat([Test_dta,Test_set],axis = 'columns')"
   ]
  },
  {
   "cell_type": "code",
   "execution_count": null,
   "metadata": {
    "id": "U8cQugQgya5W"
   },
   "outputs": [],
   "source": [
    "Training_sets.boxplot(by ='ratio', column =['views'], grid = False)"
   ]
  },
  {
   "cell_type": "markdown",
   "metadata": {
    "id": "uGRWTYfZ_57Z"
   },
   "source": [
    "Before Removing Outlier"
   ]
  },
  {
   "cell_type": "code",
   "execution_count": null,
   "metadata": {
    "colab": {
     "base_uri": "https://localhost:8080/",
     "height": 350
    },
    "executionInfo": {
     "elapsed": 2286,
     "status": "ok",
     "timestamp": 1617273252206,
     "user": {
      "displayName": "Shree Devi",
      "photoUrl": "",
      "userId": "07969727407153392124"
     },
     "user_tz": -330
    },
    "id": "6pfIHk-hya_Y",
    "outputId": "745a34c5-1e4c-4ba6-ef11-56a3747a5f46"
   },
   "outputs": [
    {
     "name": "stderr",
     "output_type": "stream",
     "text": [
      "/usr/local/lib/python3.7/dist-packages/seaborn/_decorators.py:43: FutureWarning: Pass the following variable as a keyword arg: x. From version 0.12, the only valid positional argument will be `data`, and passing other arguments without an explicit keyword will result in an error or misinterpretation.\n",
      "  FutureWarning\n"
     ]
    },
    {
     "data": {
      "text/plain": [
       "<matplotlib.axes._subplots.AxesSubplot at 0x7f31971a3a90>"
      ]
     },
     "execution_count": 35,
     "metadata": {
      "tags": []
     },
     "output_type": "execute_result"
    },
    {
     "data": {
      "image/png": "[encoded data removed]",
      "text/plain": [
       "<Figure size 432x288 with 1 Axes>"
      ]
     },
     "metadata": {
      "tags": []
     },
     "output_type": "display_data"
    }
   ],
   "source": [
    "import seaborn as sns\n",
    "sns.boxplot(Training_sets['n_likes'])"
   ]
  },
  {
   "cell_type": "markdown",
   "metadata": {
    "id": "sKTH_RrO__pJ"
   },
   "source": [
    "After Removing Outlier"
   ]
  },
  {
   "cell_type": "code",
   "execution_count": null,
   "metadata": {
    "colab": {
     "base_uri": "https://localhost:8080/",
     "height": 350
    },
    "executionInfo": {
     "elapsed": 7320,
     "status": "ok",
     "timestamp": 1617273192351,
     "user": {
      "displayName": "Shree Devi",
      "photoUrl": "",
      "userId": "07969727407153392124"
     },
     "user_tz": -330
    },
    "id": "v1uwtrjXybDw",
    "outputId": "dc8d687f-b6a5-4b66-addb-f2f4e474dfa5"
   },
   "outputs": [
    {
     "name": "stderr",
     "output_type": "stream",
     "text": [
      "/usr/local/lib/python3.7/dist-packages/seaborn/_decorators.py:43: FutureWarning: Pass the following variable as a keyword arg: x. From version 0.12, the only valid positional argument will be `data`, and passing other arguments without an explicit keyword will result in an error or misinterpretation.\n",
      "  FutureWarning\n"
     ]
    },
    {
     "data": {
      "text/plain": [
       "<matplotlib.axes._subplots.AxesSubplot at 0x7f3197fc1b90>"
      ]
     },
     "execution_count": 34,
     "metadata": {
      "tags": []
     },
     "output_type": "execute_result"
    },
    {
     "data": {
      "image/png": "[encoded data removed]",
      "text/plain": [
       "<Figure size 432x288 with 1 Axes>"
      ]
     },
     "metadata": {
      "tags": []
     },
     "output_type": "display_data"
    }
   ],
   "source": [
    "import seaborn as sns\n",
    "sns.boxplot(new_df['n_likes'])"
   ]
  },
  {
   "cell_type": "markdown",
   "metadata": {
    "id": "qI0IJZ4rAYMB"
   },
   "source": [
    "** 7.Building Model**"
   ]
  },
  {
   "cell_type": "code",
   "execution_count": null,
   "metadata": {
    "id": "MbHTDSgr5wJm"
   },
   "outputs": [],
   "source": [
    "import xgboost\n",
    "classifier=xgboost.XGBRegressor()"
   ]
  },
  {
   "cell_type": "code",
   "execution_count": null,
   "metadata": {
    "id": "-pRrAAVudqbm"
   },
   "outputs": [],
   "source": [
    "regressor=xgboost.XGBRegressor()\n",
    "booster=['gbtree','gblinear']\n",
    "base_score=[0.25,0.5,0.75,1]\n",
    "\n",
    "## Hyper Parameter Optimization\n",
    "\n",
    "n_estimators = [100, 500, 900, 1100, 1500]\n",
    "max_depth = [2, 3, 5, 10, 15]\n",
    "\n",
    "learning_rate=[0.05,0.1,0.15,0.20]\n",
    "min_child_weight=[1,2,3,4]\n",
    "\n",
    "# Defining the grid of hyperparameters to search\n",
    "hyperparameter_grid = {\n",
    "    'n_estimators': n_estimators,\n",
    "    'max_depth':max_depth,\n",
    "    'learning_rate':learning_rate,\n",
    "    'min_child_weight':min_child_weight,\n",
    "    'booster':booster,\n",
    "    'base_score':base_score\n",
    "    }"
   ]
  },
  {
   "cell_type": "code",
   "execution_count": null,
   "metadata": {
    "id": "3y4eTWlodtPp"
   },
   "outputs": [],
   "source": [
    "from sklearn.model_selection import RandomizedSearchCV\n",
    "\n",
    "regressor = xgboost.XGBRegressor()\n",
    "random_cv = RandomizedSearchCV(estimator=regressor,\n",
    "            param_distributions=hyperparameter_grid,\n",
    "            cv=5, n_iter=50,\n",
    "            scoring = 'neg_mean_absolute_error',n_jobs = 4,\n",
    "            verbose = 5, \n",
    "            return_train_score = True,\n",
    "            random_state=42)\n",
    "           "
   ]
  },
  {
   "cell_type": "code",
   "execution_count": null,
   "metadata": {
    "colab": {
     "base_uri": "https://localhost:8080/"
    },
    "executionInfo": {
     "elapsed": 245038,
     "status": "ok",
     "timestamp": 1617012927369,
     "user": {
      "displayName": "Shree Devi",
      "photoUrl": "",
      "userId": "07969727407153392124"
     },
     "user_tz": -330
    },
    "id": "FdR2def2d0Ku",
    "outputId": "466e60f9-d6cc-43db-8daf-a9b0dabbf962"
   },
   "outputs": [
    {
     "name": "stdout",
     "output_type": "stream",
     "text": [
      "Fitting 5 folds for each of 50 candidates, totalling 250 fits\n"
     ]
    },
    {
     "name": "stderr",
     "output_type": "stream",
     "text": [
      "[Parallel(n_jobs=4)]: Using backend LokyBackend with 4 concurrent workers.\n",
      "[Parallel(n_jobs=4)]: Done  10 tasks      | elapsed:   10.8s\n",
      "[Parallel(n_jobs=4)]: Done  64 tasks      | elapsed:  1.4min\n",
      "[Parallel(n_jobs=4)]: Done 154 tasks      | elapsed:  2.6min\n",
      "[Parallel(n_jobs=4)]: Done 250 out of 250 | elapsed:  4.0min finished\n"
     ]
    },
    {
     "name": "stdout",
     "output_type": "stream",
     "text": [
      "[10:15:20] WARNING: /workspace/src/objective/regression_obj.cu:152: reg:linear is now deprecated in favor of reg:squarederror.\n"
     ]
    },
    {
     "data": {
      "text/plain": [
       "RandomizedSearchCV(cv=5, error_score=nan,\n",
       "                   estimator=XGBRegressor(base_score=0.5, booster='gbtree',\n",
       "                                          colsample_bylevel=1,\n",
       "                                          colsample_bynode=1,\n",
       "                                          colsample_bytree=1, gamma=0,\n",
       "                                          importance_type='gain',\n",
       "                                          learning_rate=0.1, max_delta_step=0,\n",
       "                                          max_depth=3, min_child_weight=1,\n",
       "                                          missing=None, n_estimators=100,\n",
       "                                          n_jobs=1, nthread=None,\n",
       "                                          objective='reg:linear',\n",
       "                                          random_state=0, reg_alpha=...\n",
       "                   iid='deprecated', n_iter=50, n_jobs=4,\n",
       "                   param_distributions={'base_score': [0.25, 0.5, 0.75, 1],\n",
       "                                        'booster': ['gbtree', 'gblinear'],\n",
       "                                        'learning_rate': [0.05, 0.1, 0.15, 0.2],\n",
       "                                        'max_depth': [2, 3, 5, 10, 15],\n",
       "                                        'min_child_weight': [1, 2, 3, 4],\n",
       "                                        'n_estimators': [100, 500, 900, 1100,\n",
       "                                                         1500]},\n",
       "                   pre_dispatch='2*n_jobs', random_state=42, refit=True,\n",
       "                   return_train_score=True, scoring='neg_mean_absolute_error',\n",
       "                   verbose=5)"
      ]
     },
     "execution_count": 68,
     "metadata": {
      "tags": []
     },
     "output_type": "execute_result"
    }
   ],
   "source": [
    "random_cv.fit(X,y)"
   ]
  },
  {
   "cell_type": "code",
   "execution_count": null,
   "metadata": {
    "colab": {
     "base_uri": "https://localhost:8080/"
    },
    "executionInfo": {
     "elapsed": 224252,
     "status": "ok",
     "timestamp": 1617012927371,
     "user": {
      "displayName": "Shree Devi",
      "photoUrl": "",
      "userId": "07969727407153392124"
     },
     "user_tz": -330
    },
    "id": "S5-cHKsLd24z",
    "outputId": "bd53d15a-c51b-4a77-c13a-9fae82b98b5e"
   },
   "outputs": [
    {
     "data": {
      "text/plain": [
       "XGBRegressor(base_score=1, booster='gbtree', colsample_bylevel=1,\n",
       "             colsample_bynode=1, colsample_bytree=1, gamma=0,\n",
       "             importance_type='gain', learning_rate=0.1, max_delta_step=0,\n",
       "             max_depth=15, min_child_weight=1, missing=None, n_estimators=900,\n",
       "             n_jobs=1, nthread=None, objective='reg:linear', random_state=0,\n",
       "             reg_alpha=0, reg_lambda=1, scale_pos_weight=1, seed=None,\n",
       "             silent=None, subsample=1, verbosity=1)"
      ]
     },
     "execution_count": 69,
     "metadata": {
      "tags": []
     },
     "output_type": "execute_result"
    }
   ],
   "source": [
    "random_cv.best_estimator_"
   ]
  },
  {
   "cell_type": "code",
   "execution_count": null,
   "metadata": {
    "id": "ey3WUCvUd79n"
   },
   "outputs": [],
   "source": [
    "SSA =xgboost.XGBRegressor(base_score=1, booster='gbtree', colsample_bylevel=1,\n",
    "             colsample_bynode=1, colsample_bytree=1, gamma=0,\n",
    "             importance_type='gain', learning_rate=0.1, max_delta_step=0,\n",
    "             max_depth=15, min_child_weight=1, missing=None, n_estimators=900,\n",
    "             n_jobs=1, nthread=None, objective='reg:linear', random_state=0,\n",
    "             reg_alpha=0, reg_lambda=1, scale_pos_weight=1, seed=None,\n",
    "             silent=None, subsample=1, verbosity=1)"
   ]
  },
  {
   "cell_type": "code",
   "execution_count": null,
   "metadata": {
    "colab": {
     "base_uri": "https://localhost:8080/"
    },
    "executionInfo": {
     "elapsed": 6312,
     "status": "ok",
     "timestamp": 1617012971819,
     "user": {
      "displayName": "Shree Devi",
      "photoUrl": "",
      "userId": "07969727407153392124"
     },
     "user_tz": -330
    },
    "id": "46DYSFyDeVJw",
    "outputId": "3834cf40-7961-40a8-dcc3-b0d9604bef99"
   },
   "outputs": [
    {
     "name": "stdout",
     "output_type": "stream",
     "text": [
      "[10:16:05] WARNING: /workspace/src/objective/regression_obj.cu:152: reg:linear is now deprecated in favor of reg:squarederror.\n"
     ]
    },
    {
     "data": {
      "text/plain": [
       "XGBRegressor(base_score=1, booster='gbtree', colsample_bylevel=1,\n",
       "             colsample_bynode=1, colsample_bytree=1, gamma=0,\n",
       "             importance_type='gain', learning_rate=0.1, max_delta_step=0,\n",
       "             max_depth=15, min_child_weight=1, missing=None, n_estimators=900,\n",
       "             n_jobs=1, nthread=None, objective='reg:linear', random_state=0,\n",
       "             reg_alpha=0, reg_lambda=1, scale_pos_weight=1, seed=None,\n",
       "             silent=None, subsample=1, verbosity=1)"
      ]
     },
     "execution_count": 71,
     "metadata": {
      "tags": []
     },
     "output_type": "execute_result"
    }
   ],
   "source": [
    "SSA.fit(X,y)"
   ]
  },
  {
   "cell_type": "markdown",
   "metadata": {
    "id": "CYlul5l6AelT"
   },
   "source": [
    "Predicting Data"
   ]
  },
  {
   "cell_type": "code",
   "execution_count": null,
   "metadata": {
    "id": "H89IHekHeX4X"
   },
   "outputs": [],
   "source": [
    "pre =SSA.predict(Testing_set)"
   ]
  },
  {
   "cell_type": "code",
   "execution_count": null,
   "metadata": {
    "id": "7c_lgQL5ebH7"
   },
   "outputs": [],
   "source": [
    "import pandas\n",
    "df3 = pandas.DataFrame(data={ \"views\":pre})\n"
   ]
  },
  {
   "cell_type": "code",
   "execution_count": null,
   "metadata": {
    "id": "Qb5rHLpCh8Gw"
   },
   "outputs": [],
   "source": [
    "df4=df['views']"
   ]
  },
  {
   "cell_type": "code",
   "execution_count": null,
   "metadata": {
    "colab": {
     "base_uri": "https://localhost:8080/",
     "height": 402
    },
    "executionInfo": {
     "elapsed": 1030,
     "status": "ok",
     "timestamp": 1617013783940,
     "user": {
      "displayName": "Shree Devi",
      "photoUrl": "",
      "userId": "07969727407153392124"
     },
     "user_tz": -330
    },
    "id": "xZB7R0Tze3m_",
    "outputId": "f3fc67f6-93c7-479e-d41d-3af533172faf"
   },
   "outputs": [
    {
     "data": {
      "text/html": [
       "<div>\n",
       "<style scoped>\n",
       "    .dataframe tbody tr th:only-of-type {\n",
       "        vertical-align: middle;\n",
       "    }\n",
       "\n",
       "    .dataframe tbody tr th {\n",
       "        vertical-align: top;\n",
       "    }\n",
       "\n",
       "    .dataframe thead th {\n",
       "        text-align: right;\n",
       "    }\n",
       "</style>\n",
       "<table border=\"1\" class=\"dataframe\">\n",
       "  <thead>\n",
       "    <tr style=\"text-align: right;\">\n",
       "      <th></th>\n",
       "      <th>ad_blocked</th>\n",
       "      <th>embed</th>\n",
       "      <th>partner</th>\n",
       "      <th>partner_active</th>\n",
       "      <th>ratio</th>\n",
       "      <th>duration</th>\n",
       "      <th>language</th>\n",
       "      <th>n_likes</th>\n",
       "      <th>n_tags</th>\n",
       "      <th>n_formats</th>\n",
       "      <th>dayofweek</th>\n",
       "      <th>hour</th>\n",
       "      <th>views</th>\n",
       "    </tr>\n",
       "  </thead>\n",
       "  <tbody>\n",
       "    <tr>\n",
       "      <th>0</th>\n",
       "      <td>0</td>\n",
       "      <td>1</td>\n",
       "      <td>0</td>\n",
       "      <td>0</td>\n",
       "      <td>1.33333</td>\n",
       "      <td>1675</td>\n",
       "      <td>2</td>\n",
       "      <td>0</td>\n",
       "      <td>10</td>\n",
       "      <td>2</td>\n",
       "      <td>2</td>\n",
       "      <td>3</td>\n",
       "      <td>163.264542</td>\n",
       "    </tr>\n",
       "    <tr>\n",
       "      <th>1</th>\n",
       "      <td>0</td>\n",
       "      <td>1</td>\n",
       "      <td>0</td>\n",
       "      <td>0</td>\n",
       "      <td>1.33333</td>\n",
       "      <td>1479</td>\n",
       "      <td>2</td>\n",
       "      <td>0</td>\n",
       "      <td>10</td>\n",
       "      <td>2</td>\n",
       "      <td>2</td>\n",
       "      <td>3</td>\n",
       "      <td>143.573090</td>\n",
       "    </tr>\n",
       "    <tr>\n",
       "      <th>2</th>\n",
       "      <td>0</td>\n",
       "      <td>1</td>\n",
       "      <td>0</td>\n",
       "      <td>0</td>\n",
       "      <td>1.33333</td>\n",
       "      <td>1505</td>\n",
       "      <td>2</td>\n",
       "      <td>0</td>\n",
       "      <td>10</td>\n",
       "      <td>2</td>\n",
       "      <td>2</td>\n",
       "      <td>3</td>\n",
       "      <td>146.185349</td>\n",
       "    </tr>\n",
       "    <tr>\n",
       "      <th>3</th>\n",
       "      <td>0</td>\n",
       "      <td>1</td>\n",
       "      <td>1</td>\n",
       "      <td>1</td>\n",
       "      <td>1.77778</td>\n",
       "      <td>50</td>\n",
       "      <td>2</td>\n",
       "      <td>1</td>\n",
       "      <td>6</td>\n",
       "      <td>5</td>\n",
       "      <td>2</td>\n",
       "      <td>3</td>\n",
       "      <td>6.994191</td>\n",
       "    </tr>\n",
       "    <tr>\n",
       "      <th>4</th>\n",
       "      <td>0</td>\n",
       "      <td>1</td>\n",
       "      <td>0</td>\n",
       "      <td>0</td>\n",
       "      <td>1.33333</td>\n",
       "      <td>1543</td>\n",
       "      <td>2</td>\n",
       "      <td>0</td>\n",
       "      <td>6</td>\n",
       "      <td>2</td>\n",
       "      <td>2</td>\n",
       "      <td>3</td>\n",
       "      <td>152.709503</td>\n",
       "    </tr>\n",
       "    <tr>\n",
       "      <th>...</th>\n",
       "      <td>...</td>\n",
       "      <td>...</td>\n",
       "      <td>...</td>\n",
       "      <td>...</td>\n",
       "      <td>...</td>\n",
       "      <td>...</td>\n",
       "      <td>...</td>\n",
       "      <td>...</td>\n",
       "      <td>...</td>\n",
       "      <td>...</td>\n",
       "      <td>...</td>\n",
       "      <td>...</td>\n",
       "      <td>...</td>\n",
       "    </tr>\n",
       "    <tr>\n",
       "      <th>981</th>\n",
       "      <td>0</td>\n",
       "      <td>1</td>\n",
       "      <td>1</td>\n",
       "      <td>1</td>\n",
       "      <td>1.77778</td>\n",
       "      <td>46</td>\n",
       "      <td>3</td>\n",
       "      <td>0</td>\n",
       "      <td>2</td>\n",
       "      <td>4</td>\n",
       "      <td>6</td>\n",
       "      <td>13</td>\n",
       "      <td>7.524851</td>\n",
       "    </tr>\n",
       "    <tr>\n",
       "      <th>982</th>\n",
       "      <td>0</td>\n",
       "      <td>1</td>\n",
       "      <td>0</td>\n",
       "      <td>0</td>\n",
       "      <td>1.33333</td>\n",
       "      <td>91</td>\n",
       "      <td>2</td>\n",
       "      <td>0</td>\n",
       "      <td>1</td>\n",
       "      <td>2</td>\n",
       "      <td>6</td>\n",
       "      <td>13</td>\n",
       "      <td>12.796430</td>\n",
       "    </tr>\n",
       "    <tr>\n",
       "      <th>983</th>\n",
       "      <td>0</td>\n",
       "      <td>1</td>\n",
       "      <td>1</td>\n",
       "      <td>1</td>\n",
       "      <td>1.77778</td>\n",
       "      <td>72</td>\n",
       "      <td>3</td>\n",
       "      <td>0</td>\n",
       "      <td>2</td>\n",
       "      <td>4</td>\n",
       "      <td>6</td>\n",
       "      <td>13</td>\n",
       "      <td>10.532970</td>\n",
       "    </tr>\n",
       "    <tr>\n",
       "      <th>984</th>\n",
       "      <td>0</td>\n",
       "      <td>1</td>\n",
       "      <td>0</td>\n",
       "      <td>0</td>\n",
       "      <td>1.33333</td>\n",
       "      <td>82</td>\n",
       "      <td>7</td>\n",
       "      <td>0</td>\n",
       "      <td>9</td>\n",
       "      <td>3</td>\n",
       "      <td>6</td>\n",
       "      <td>13</td>\n",
       "      <td>9.581595</td>\n",
       "    </tr>\n",
       "    <tr>\n",
       "      <th>985</th>\n",
       "      <td>0</td>\n",
       "      <td>1</td>\n",
       "      <td>0</td>\n",
       "      <td>0</td>\n",
       "      <td>1.34091</td>\n",
       "      <td>88</td>\n",
       "      <td>2</td>\n",
       "      <td>0</td>\n",
       "      <td>4</td>\n",
       "      <td>3</td>\n",
       "      <td>6</td>\n",
       "      <td>13</td>\n",
       "      <td>11.703769</td>\n",
       "    </tr>\n",
       "  </tbody>\n",
       "</table>\n",
       "<p>986 rows × 13 columns</p>\n",
       "</div>"
      ],
      "text/plain": [
       "     ad_blocked  embed  partner  ...  dayofweek  hour       views\n",
       "0             0      1        0  ...          2     3  163.264542\n",
       "1             0      1        0  ...          2     3  143.573090\n",
       "2             0      1        0  ...          2     3  146.185349\n",
       "3             0      1        1  ...          2     3    6.994191\n",
       "4             0      1        0  ...          2     3  152.709503\n",
       "..          ...    ...      ...  ...        ...   ...         ...\n",
       "981           0      1        1  ...          6    13    7.524851\n",
       "982           0      1        0  ...          6    13   12.796430\n",
       "983           0      1        1  ...          6    13   10.532970\n",
       "984           0      1        0  ...          6    13    9.581595\n",
       "985           0      1        0  ...          6    13   11.703769\n",
       "\n",
       "[986 rows x 13 columns]"
      ]
     },
     "execution_count": 89,
     "metadata": {
      "tags": []
     },
     "output_type": "execute_result"
    }
   ],
   "source": [
    "test_new = pd.concat([Testing_set,df4],axis = 1)\n",
    "test_new"
   ]
  },
  {
   "cell_type": "code",
   "execution_count": null,
   "metadata": {
    "id": "kBWD5MXriVoU"
   },
   "outputs": [],
   "source": [
    "test_new1 = pd.concat([Testing_set,df3],axis = 1)\n",
    "test_new1"
   ]
  },
  {
   "cell_type": "code",
   "execution_count": null,
   "metadata": {
    "id": "Z3xTltE3iVrW"
   },
   "outputs": [],
   "source": [
    "train_new1= pd.concat([Training_sets,test_new1],axis =0)\n",
    "train_new1.shape\n",
    "\n",
    "X2= train_new1.drop(columns = ['views'], axis=1)\n",
    "y2= train_new1['views']"
   ]
  },
  {
   "cell_type": "code",
   "execution_count": null,
   "metadata": {
    "id": "axNXJFMnfSUD"
   },
   "outputs": [],
   "source": [
    "from sklearn.model_selection import RandomizedSearchCV\n",
    "\n",
    "regressor = xgboost.XGBRegressor()\n",
    "random_cv1 = RandomizedSearchCV(estimator=regressor,\n",
    "            param_distributions=hyperparameter_grid,\n",
    "            cv=5, n_iter=50,\n",
    "            scoring = 'neg_mean_absolute_error',n_jobs = 4,\n",
    "            verbose = 5, \n",
    "            return_train_score = True,\n",
    "            random_state=42)"
   ]
  },
  {
   "cell_type": "code",
   "execution_count": null,
   "metadata": {
    "colab": {
     "base_uri": "https://localhost:8080/"
    },
    "executionInfo": {
     "elapsed": 325435,
     "status": "ok",
     "timestamp": 1617014843496,
     "user": {
      "displayName": "Shree Devi",
      "photoUrl": "",
      "userId": "07969727407153392124"
     },
     "user_tz": -330
    },
    "id": "W9YdMllRjl6t",
    "outputId": "8fda0b3e-15b5-4a51-ad94-c938dc443682"
   },
   "outputs": [
    {
     "name": "stdout",
     "output_type": "stream",
     "text": [
      "Fitting 5 folds for each of 50 candidates, totalling 250 fits\n"
     ]
    },
    {
     "name": "stderr",
     "output_type": "stream",
     "text": [
      "[Parallel(n_jobs=4)]: Using backend LokyBackend with 4 concurrent workers.\n",
      "[Parallel(n_jobs=4)]: Done  10 tasks      | elapsed:   12.4s\n",
      "[Parallel(n_jobs=4)]: Done  64 tasks      | elapsed:  1.8min\n",
      "[Parallel(n_jobs=4)]: Done 154 tasks      | elapsed:  3.5min\n"
     ]
    },
    {
     "name": "stdout",
     "output_type": "stream",
     "text": [
      "[10:47:21] WARNING: /workspace/src/objective/regression_obj.cu:152: reg:linear is now deprecated in favor of reg:squarederror.\n"
     ]
    },
    {
     "name": "stderr",
     "output_type": "stream",
     "text": [
      "[Parallel(n_jobs=4)]: Done 250 out of 250 | elapsed:  5.4min finished\n"
     ]
    },
    {
     "data": {
      "text/plain": [
       "RandomizedSearchCV(cv=5, error_score=nan,\n",
       "                   estimator=XGBRegressor(base_score=0.5, booster='gbtree',\n",
       "                                          colsample_bylevel=1,\n",
       "                                          colsample_bynode=1,\n",
       "                                          colsample_bytree=1, gamma=0,\n",
       "                                          importance_type='gain',\n",
       "                                          learning_rate=0.1, max_delta_step=0,\n",
       "                                          max_depth=3, min_child_weight=1,\n",
       "                                          missing=None, n_estimators=100,\n",
       "                                          n_jobs=1, nthread=None,\n",
       "                                          objective='reg:linear',\n",
       "                                          random_state=0, reg_alpha=...\n",
       "                   iid='deprecated', n_iter=50, n_jobs=4,\n",
       "                   param_distributions={'base_score': [0.25, 0.5, 0.75, 1],\n",
       "                                        'booster': ['gbtree', 'gblinear'],\n",
       "                                        'learning_rate': [0.05, 0.1, 0.15, 0.2],\n",
       "                                        'max_depth': [2, 3, 5, 10, 15],\n",
       "                                        'min_child_weight': [1, 2, 3, 4],\n",
       "                                        'n_estimators': [100, 500, 900, 1100,\n",
       "                                                         1500]},\n",
       "                   pre_dispatch='2*n_jobs', random_state=42, refit=True,\n",
       "                   return_train_score=True, scoring='neg_mean_absolute_error',\n",
       "                   verbose=5)"
      ]
     },
     "execution_count": 104,
     "metadata": {
      "tags": []
     },
     "output_type": "execute_result"
    }
   ],
   "source": [
    "from sklearn.model_selection import RandomizedSearchCV\n",
    "\n",
    "regressor = xgboost.XGBRegressor()\n",
    "random_cv2 = RandomizedSearchCV(estimator=regressor,\n",
    "            param_distributions=hyperparameter_grid,\n",
    "            cv=5, n_iter=50,\n",
    "            scoring = 'neg_mean_absolute_error',n_jobs = 4,\n",
    "            verbose = 5, \n",
    "            return_train_score = True,\n",
    "            random_state=42)\n",
    "\n",
    "random_cv2.fit(X2,y2)"
   ]
  },
  {
   "cell_type": "code",
   "execution_count": null,
   "metadata": {
    "colab": {
     "base_uri": "https://localhost:8080/"
    },
    "executionInfo": {
     "elapsed": 1864,
     "status": "ok",
     "timestamp": 1617014910772,
     "user": {
      "displayName": "Shree Devi",
      "photoUrl": "",
      "userId": "07969727407153392124"
     },
     "user_tz": -330
    },
    "id": "kwydCjxMmRyr",
    "outputId": "72e6a3d9-7635-4c27-fa55-a83bafe946a2"
   },
   "outputs": [
    {
     "data": {
      "text/plain": [
       "XGBRegressor(base_score=0.5, booster='gbtree', colsample_bylevel=1,\n",
       "             colsample_bynode=1, colsample_bytree=1, gamma=0,\n",
       "             importance_type='gain', learning_rate=0.1, max_delta_step=0,\n",
       "             max_depth=2, min_child_weight=1, missing=None, n_estimators=100,\n",
       "             n_jobs=1, nthread=None, objective='reg:linear', random_state=0,\n",
       "             reg_alpha=0, reg_lambda=1, scale_pos_weight=1, seed=None,\n",
       "             silent=None, subsample=1, verbosity=1)"
      ]
     },
     "execution_count": 105,
     "metadata": {
      "tags": []
     },
     "output_type": "execute_result"
    }
   ],
   "source": [
    "random_cv2.best_estimator_"
   ]
  },
  {
   "cell_type": "code",
   "execution_count": null,
   "metadata": {
    "id": "iiw940-Mj1kp"
   },
   "outputs": [],
   "source": [
    "regressor =xgboost.XGBRegressor(base_score=0.5, booster='gbtree', colsample_bylevel=1,\n",
    "             colsample_bynode=1, colsample_bytree=1, gamma=0,\n",
    "             importance_type='gain', learning_rate=0.1, max_delta_step=0,\n",
    "             max_depth=2, min_child_weight=1, missing=None, n_estimators=100,\n",
    "             n_jobs=1, nthread=None, objective='reg:linear', random_state=0,\n",
    "             reg_alpha=0, reg_lambda=1, scale_pos_weight=1, seed=None,\n",
    "             silent=None, subsample=1, verbosity=1)\n"
   ]
  },
  {
   "cell_type": "code",
   "execution_count": null,
   "metadata": {
    "colab": {
     "base_uri": "https://localhost:8080/"
    },
    "executionInfo": {
     "elapsed": 947,
     "status": "ok",
     "timestamp": 1617014928696,
     "user": {
      "displayName": "Shree Devi",
      "photoUrl": "",
      "userId": "07969727407153392124"
     },
     "user_tz": -330
    },
    "id": "9ChKRqnFk-rg",
    "outputId": "4403c2dd-3877-4585-bb68-61450ebf9db9"
   },
   "outputs": [
    {
     "name": "stdout",
     "output_type": "stream",
     "text": [
      "[10:48:47] WARNING: /workspace/src/objective/regression_obj.cu:152: reg:linear is now deprecated in favor of reg:squarederror.\n"
     ]
    },
    {
     "data": {
      "text/plain": [
       "XGBRegressor(base_score=0.5, booster='gbtree', colsample_bylevel=1,\n",
       "             colsample_bynode=1, colsample_bytree=1, gamma=0,\n",
       "             importance_type='gain', learning_rate=0.1, max_delta_step=0,\n",
       "             max_depth=2, min_child_weight=1, missing=None, n_estimators=100,\n",
       "             n_jobs=1, nthread=None, objective='reg:linear', random_state=0,\n",
       "             reg_alpha=0, reg_lambda=1, scale_pos_weight=1, seed=None,\n",
       "             silent=None, subsample=1, verbosity=1)"
      ]
     },
     "execution_count": 107,
     "metadata": {
      "tags": []
     },
     "output_type": "execute_result"
    }
   ],
   "source": [
    "regressor.fit(X2,y2)"
   ]
  },
  {
   "cell_type": "code",
   "execution_count": null,
   "metadata": {
    "id": "mJHyBHF4lCyG"
   },
   "outputs": [],
   "source": [
    "prediction =SSA19.predict(Testing_set)"
   ]
  },
  {
   "cell_type": "code",
   "execution_count": null,
   "metadata": {
    "id": "FpvQcyOqlRon"
   },
   "outputs": [],
   "source": [
    "prediction "
   ]
  },
  {
   "cell_type": "code",
   "execution_count": null,
   "metadata": {
    "id": "Q_hrO69smbqx"
   },
   "outputs": [],
   "source": [
    "df6= pandas.DataFrame(data={\"comp_id\":Test_id , \"views\":pre1})"
   ]
  },
  {
   "cell_type": "code",
   "execution_count": null,
   "metadata": {
    "id": "1BJ018Lzm3yt"
   },
   "outputs": [],
   "source": [
    "df7= pandas.DataFrame(data={\"comp_id\":Test_id , \"views\":prediction})"
   ]
  },
  {
   "cell_type": "code",
   "execution_count": null,
   "metadata": {
    "id": "H3RznDZMs1iG"
   },
   "outputs": [],
   "source": [
    "test_new3 = pd.concat([Testing_set,df7],axis = 1)\n",
    "test_new3\n",
    "\n",
    "train_new3 = pd.concat([Training_sets,test_new3],axis =0)\n",
    "train_new3.shape\n",
    "\n",
    "X3= train_new.drop(columns = ['views'], axis=1)\n",
    "y3= train_new['views']"
   ]
  },
  {
   "cell_type": "code",
   "execution_count": null,
   "metadata": {
    "colab": {
     "base_uri": "https://localhost:8080/"
    },
    "executionInfo": {
     "elapsed": 324925,
     "status": "ok",
     "timestamp": 1617017093437,
     "user": {
      "displayName": "Shree Devi",
      "photoUrl": "",
      "userId": "07969727407153392124"
     },
     "user_tz": -330
    },
    "id": "cdmBR0sFtUNv",
    "outputId": "dcbadbe9-d41b-490d-9dc4-398a2791979d"
   },
   "outputs": [
    {
     "name": "stdout",
     "output_type": "stream",
     "text": [
      "Fitting 5 folds for each of 50 candidates, totalling 250 fits\n"
     ]
    },
    {
     "name": "stderr",
     "output_type": "stream",
     "text": [
      "[Parallel(n_jobs=4)]: Using backend LokyBackend with 4 concurrent workers.\n",
      "[Parallel(n_jobs=4)]: Done  10 tasks      | elapsed:   12.5s\n",
      "[Parallel(n_jobs=4)]: Done  64 tasks      | elapsed:  1.8min\n",
      "[Parallel(n_jobs=4)]: Done 154 tasks      | elapsed:  3.5min\n"
     ]
    },
    {
     "name": "stdout",
     "output_type": "stream",
     "text": [
      "[11:24:51] WARNING: /workspace/src/objective/regression_obj.cu:152: reg:linear is now deprecated in favor of reg:squarederror.\n"
     ]
    },
    {
     "name": "stderr",
     "output_type": "stream",
     "text": [
      "[Parallel(n_jobs=4)]: Done 250 out of 250 | elapsed:  5.4min finished\n"
     ]
    },
    {
     "data": {
      "text/plain": [
       "RandomizedSearchCV(cv=5, error_score=nan,\n",
       "                   estimator=XGBRegressor(base_score=0.5, booster='gbtree',\n",
       "                                          colsample_bylevel=1,\n",
       "                                          colsample_bynode=1,\n",
       "                                          colsample_bytree=1, gamma=0,\n",
       "                                          importance_type='gain',\n",
       "                                          learning_rate=0.1, max_delta_step=0,\n",
       "                                          max_depth=3, min_child_weight=1,\n",
       "                                          missing=None, n_estimators=100,\n",
       "                                          n_jobs=1, nthread=None,\n",
       "                                          objective='reg:linear',\n",
       "                                          random_state=0, reg_alpha=...\n",
       "                   iid='deprecated', n_iter=50, n_jobs=4,\n",
       "                   param_distributions={'base_score': [0.25, 0.5, 0.75, 1],\n",
       "                                        'booster': ['gbtree', 'gblinear'],\n",
       "                                        'learning_rate': [0.05, 0.1, 0.15, 0.2],\n",
       "                                        'max_depth': [2, 3, 5, 10, 15],\n",
       "                                        'min_child_weight': [1, 2, 3, 4],\n",
       "                                        'n_estimators': [100, 500, 900, 1100,\n",
       "                                                         1500]},\n",
       "                   pre_dispatch='2*n_jobs', random_state=42, refit=True,\n",
       "                   return_train_score=True, scoring='neg_mean_absolute_error',\n",
       "                   verbose=5)"
      ]
     },
     "execution_count": 114,
     "metadata": {
      "tags": []
     },
     "output_type": "execute_result"
    }
   ],
   "source": [
    "from sklearn.model_selection import RandomizedSearchCV\n",
    "\n",
    "regressor = xgboost.XGBRegressor()\n",
    "random_cv3 = RandomizedSearchCV(estimator=regressor,\n",
    "            param_distributions=hyperparameter_grid,\n",
    "            cv=5, n_iter=50,\n",
    "            scoring = 'neg_mean_absolute_error',n_jobs = 4,\n",
    "            verbose = 5, \n",
    "            return_train_score = True,\n",
    "            random_state=42)\n",
    "\n",
    "random_cv3.fit(X3,y3)"
   ]
  },
  {
   "cell_type": "code",
   "execution_count": null,
   "metadata": {
    "colab": {
     "base_uri": "https://localhost:8080/"
    },
    "executionInfo": {
     "elapsed": 1866,
     "status": "ok",
     "timestamp": 1617017095317,
     "user": {
      "displayName": "Shree Devi",
      "photoUrl": "",
      "userId": "07969727407153392124"
     },
     "user_tz": -330
    },
    "id": "d_5wXjA8tcd1",
    "outputId": "d5923f6e-bd28-4b45-bc6f-6583bdb76271"
   },
   "outputs": [
    {
     "data": {
      "text/plain": [
       "XGBRegressor(base_score=0.5, booster='gbtree', colsample_bylevel=1,\n",
       "             colsample_bynode=1, colsample_bytree=1, gamma=0,\n",
       "             importance_type='gain', learning_rate=0.1, max_delta_step=0,\n",
       "             max_depth=2, min_child_weight=1, missing=None, n_estimators=100,\n",
       "             n_jobs=1, nthread=None, objective='reg:linear', random_state=0,\n",
       "             reg_alpha=0, reg_lambda=1, scale_pos_weight=1, seed=None,\n",
       "             silent=None, subsample=1, verbosity=1)"
      ]
     },
     "execution_count": 115,
     "metadata": {
      "tags": []
     },
     "output_type": "execute_result"
    }
   ],
   "source": [
    "random_cv3.best_estimator_"
   ]
  },
  {
   "cell_type": "code",
   "execution_count": null,
   "metadata": {
    "id": "5YxZryPctjDV"
   },
   "outputs": [],
   "source": [
    "regressor2 =xgboost.XGBRegressor(base_score=0.5, booster='gbtree', colsample_bylevel=1,\n",
    "             colsample_bynode=1, colsample_bytree=1, gamma=0,\n",
    "             importance_type='gain', learning_rate=0.1, max_delta_step=0,\n",
    "             max_depth=2, min_child_weight=1, missing=None, n_estimators=100,\n",
    "             n_jobs=1, nthread=None, objective='reg:linear', random_state=0,\n",
    "             reg_alpha=0, reg_lambda=1, scale_pos_weight=1, seed=None,\n",
    "             silent=None, subsample=1, verbosity=1)"
   ]
  },
  {
   "cell_type": "code",
   "execution_count": null,
   "metadata": {
    "colab": {
     "base_uri": "https://localhost:8080/"
    },
    "executionInfo": {
     "elapsed": 1100,
     "status": "ok",
     "timestamp": 1617017137059,
     "user": {
      "displayName": "Shree Devi",
      "photoUrl": "",
      "userId": "07969727407153392124"
     },
     "user_tz": -330
    },
    "id": "gSDhNkvatpfO",
    "outputId": "ca6cc7a3-dba6-4667-e676-97031f0fc560"
   },
   "outputs": [
    {
     "name": "stdout",
     "output_type": "stream",
     "text": [
      "[11:25:35] WARNING: /workspace/src/objective/regression_obj.cu:152: reg:linear is now deprecated in favor of reg:squarederror.\n"
     ]
    },
    {
     "data": {
      "text/plain": [
       "XGBRegressor(base_score=0.5, booster='gbtree', colsample_bylevel=1,\n",
       "             colsample_bynode=1, colsample_bytree=1, gamma=0,\n",
       "             importance_type='gain', learning_rate=0.1, max_delta_step=0,\n",
       "             max_depth=2, min_child_weight=1, missing=None, n_estimators=100,\n",
       "             n_jobs=1, nthread=None, objective='reg:linear', random_state=0,\n",
       "             reg_alpha=0, reg_lambda=1, scale_pos_weight=1, seed=None,\n",
       "             silent=None, subsample=1, verbosity=1)"
      ]
     },
     "execution_count": 117,
     "metadata": {
      "tags": []
     },
     "output_type": "execute_result"
    }
   ],
   "source": [
    "SSA20.fit(X3,y3)"
   ]
  },
  {
   "cell_type": "code",
   "execution_count": null,
   "metadata": {
    "id": "aFnzum1utuQR"
   },
   "outputs": [],
   "source": [
    "mypre=regressor2 .predict(Testing_set)"
   ]
  },
  {
   "cell_type": "markdown",
   "metadata": {
    "id": "s-j3EuBWBJBk"
   },
   "source": [
    "Loading Submission file"
   ]
  },
  {
   "cell_type": "code",
   "execution_count": null,
   "metadata": {
    "id": "0_y3lbDpu3Wt"
   },
   "outputs": [],
   "source": [
    "import pandas\n",
    "df = pandas.DataFrame(data={\"comp_id\":Test_id , \"views\":mypre})\n",
    "df.to_csv(\".A9.csv\", sep=',',index=False)"
   ]
  }
 ],
 "metadata": {
  "accelerator": "GPU",
  "colab": {
   "authorship_tag": "ABX9TyOymUrsJ6I8nx2nwSnzniLQ",
   "collapsed_sections": [],
   "name": "Coding.ipynb",
   "provenance": []
  },
  "kernelspec": {
   "display_name": "Python 3",
   "language": "python",
   "name": "python3"
  },
  "language_info": {
   "codemirror_mode": {
    "name": "ipython",
    "version": 3
   },
   "file_extension": ".py",
   "mimetype": "text/x-python",
   "name": "python",
   "nbconvert_exporter": "python",
   "pygments_lexer": "ipython3",
   "version": "3.8.3"
  }
 },
 "nbformat": 4,
 "nbformat_minor": 1
}
